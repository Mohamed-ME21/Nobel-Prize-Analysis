{
 "cells": [
  {
   "cell_type": "markdown",
   "id": "e41ad4e7-d3f9-471e-89a3-ce6dde47ecaa",
   "metadata": {},
   "source": [
    "# Loading in required libraries"
   ]
  },
  {
   "cell_type": "code",
   "execution_count": 1,
   "id": "a65eb864-dd4e-41ab-a214-baaf381126f5",
   "metadata": {},
   "outputs": [],
   "source": [
    "import pandas as pd\n",
    "import numpy as np\n",
    "import matplotlib.pyplot as plt\n",
    "import seaborn as sns"
   ]
  },
  {
   "cell_type": "markdown",
   "id": "0abf0362-0f3d-4e1c-9ad5-8d3dbfc74045",
   "metadata": {},
   "source": [
    "# Exploratory Data Analysis - EDA"
   ]
  },
  {
   "cell_type": "code",
   "execution_count": null,
   "id": "13c5cafb-d70f-45e5-9ef7-431bf7fa8fd9",
   "metadata": {},
   "outputs": [],
   "source": []
  },
  {
   "cell_type": "markdown",
   "id": "db2ec49f-a656-4570-bd07-1dcfb2c71f73",
   "metadata": {},
   "source": [
    "# Import file Data ==> Nobel"
   ]
  },
  {
   "cell_type": "code",
   "execution_count": 2,
   "id": "0d5ea6ee-c26e-4721-a055-2bcdca26a61c",
   "metadata": {},
   "outputs": [
    {
     "data": {
      "text/html": [
       "<div>\n",
       "<style scoped>\n",
       "    .dataframe tbody tr th:only-of-type {\n",
       "        vertical-align: middle;\n",
       "    }\n",
       "\n",
       "    .dataframe tbody tr th {\n",
       "        vertical-align: top;\n",
       "    }\n",
       "\n",
       "    .dataframe thead th {\n",
       "        text-align: right;\n",
       "    }\n",
       "</style>\n",
       "<table border=\"1\" class=\"dataframe\">\n",
       "  <thead>\n",
       "    <tr style=\"text-align: right;\">\n",
       "      <th></th>\n",
       "      <th>year</th>\n",
       "      <th>category</th>\n",
       "      <th>prize</th>\n",
       "      <th>motivation</th>\n",
       "      <th>prize_share</th>\n",
       "      <th>laureate_id</th>\n",
       "      <th>laureate_type</th>\n",
       "      <th>full_name</th>\n",
       "      <th>birth_date</th>\n",
       "      <th>birth_city</th>\n",
       "      <th>birth_country</th>\n",
       "      <th>sex</th>\n",
       "      <th>organization_name</th>\n",
       "      <th>organization_city</th>\n",
       "      <th>organization_country</th>\n",
       "      <th>death_date</th>\n",
       "      <th>death_city</th>\n",
       "      <th>death_country</th>\n",
       "    </tr>\n",
       "  </thead>\n",
       "  <tbody>\n",
       "    <tr>\n",
       "      <th>0</th>\n",
       "      <td>1901</td>\n",
       "      <td>Chemistry</td>\n",
       "      <td>The Nobel Prize in Chemistry 1901</td>\n",
       "      <td>\"in recognition of the extraordinary services ...</td>\n",
       "      <td>1/1</td>\n",
       "      <td>160</td>\n",
       "      <td>Individual</td>\n",
       "      <td>Jacobus Henricus van 't Hoff</td>\n",
       "      <td>1852-08-30</td>\n",
       "      <td>Rotterdam</td>\n",
       "      <td>Netherlands</td>\n",
       "      <td>Male</td>\n",
       "      <td>Berlin University</td>\n",
       "      <td>Berlin</td>\n",
       "      <td>Germany</td>\n",
       "      <td>1911-03-01</td>\n",
       "      <td>Berlin</td>\n",
       "      <td>Germany</td>\n",
       "    </tr>\n",
       "    <tr>\n",
       "      <th>1</th>\n",
       "      <td>1901</td>\n",
       "      <td>Literature</td>\n",
       "      <td>The Nobel Prize in Literature 1901</td>\n",
       "      <td>\"in special recognition of his poetic composit...</td>\n",
       "      <td>1/1</td>\n",
       "      <td>569</td>\n",
       "      <td>Individual</td>\n",
       "      <td>Sully Prudhomme</td>\n",
       "      <td>1839-03-16</td>\n",
       "      <td>Paris</td>\n",
       "      <td>France</td>\n",
       "      <td>Male</td>\n",
       "      <td>NaN</td>\n",
       "      <td>NaN</td>\n",
       "      <td>NaN</td>\n",
       "      <td>1907-09-07</td>\n",
       "      <td>Châtenay</td>\n",
       "      <td>France</td>\n",
       "    </tr>\n",
       "    <tr>\n",
       "      <th>2</th>\n",
       "      <td>1901</td>\n",
       "      <td>Medicine</td>\n",
       "      <td>The Nobel Prize in Physiology or Medicine 1901</td>\n",
       "      <td>\"for his work on serum therapy, especially its...</td>\n",
       "      <td>1/1</td>\n",
       "      <td>293</td>\n",
       "      <td>Individual</td>\n",
       "      <td>Emil Adolf von Behring</td>\n",
       "      <td>1854-03-15</td>\n",
       "      <td>Hansdorf (Lawice)</td>\n",
       "      <td>Prussia (Poland)</td>\n",
       "      <td>Male</td>\n",
       "      <td>Marburg University</td>\n",
       "      <td>Marburg</td>\n",
       "      <td>Germany</td>\n",
       "      <td>1917-03-31</td>\n",
       "      <td>Marburg</td>\n",
       "      <td>Germany</td>\n",
       "    </tr>\n",
       "    <tr>\n",
       "      <th>3</th>\n",
       "      <td>1901</td>\n",
       "      <td>Peace</td>\n",
       "      <td>The Nobel Peace Prize 1901</td>\n",
       "      <td>NaN</td>\n",
       "      <td>1/2</td>\n",
       "      <td>462</td>\n",
       "      <td>Individual</td>\n",
       "      <td>Jean Henry Dunant</td>\n",
       "      <td>1828-05-08</td>\n",
       "      <td>Geneva</td>\n",
       "      <td>Switzerland</td>\n",
       "      <td>Male</td>\n",
       "      <td>NaN</td>\n",
       "      <td>NaN</td>\n",
       "      <td>NaN</td>\n",
       "      <td>1910-10-30</td>\n",
       "      <td>Heiden</td>\n",
       "      <td>Switzerland</td>\n",
       "    </tr>\n",
       "    <tr>\n",
       "      <th>4</th>\n",
       "      <td>1901</td>\n",
       "      <td>Peace</td>\n",
       "      <td>The Nobel Peace Prize 1901</td>\n",
       "      <td>NaN</td>\n",
       "      <td>1/2</td>\n",
       "      <td>463</td>\n",
       "      <td>Individual</td>\n",
       "      <td>Frédéric Passy</td>\n",
       "      <td>1822-05-20</td>\n",
       "      <td>Paris</td>\n",
       "      <td>France</td>\n",
       "      <td>Male</td>\n",
       "      <td>NaN</td>\n",
       "      <td>NaN</td>\n",
       "      <td>NaN</td>\n",
       "      <td>1912-06-12</td>\n",
       "      <td>Paris</td>\n",
       "      <td>France</td>\n",
       "    </tr>\n",
       "  </tbody>\n",
       "</table>\n",
       "</div>"
      ],
      "text/plain": [
       "   year    category                                           prize  \\\n",
       "0  1901   Chemistry               The Nobel Prize in Chemistry 1901   \n",
       "1  1901  Literature              The Nobel Prize in Literature 1901   \n",
       "2  1901    Medicine  The Nobel Prize in Physiology or Medicine 1901   \n",
       "3  1901       Peace                      The Nobel Peace Prize 1901   \n",
       "4  1901       Peace                      The Nobel Peace Prize 1901   \n",
       "\n",
       "                                          motivation prize_share  laureate_id  \\\n",
       "0  \"in recognition of the extraordinary services ...         1/1          160   \n",
       "1  \"in special recognition of his poetic composit...         1/1          569   \n",
       "2  \"for his work on serum therapy, especially its...         1/1          293   \n",
       "3                                                NaN         1/2          462   \n",
       "4                                                NaN         1/2          463   \n",
       "\n",
       "  laureate_type                     full_name  birth_date         birth_city  \\\n",
       "0    Individual  Jacobus Henricus van 't Hoff  1852-08-30          Rotterdam   \n",
       "1    Individual               Sully Prudhomme  1839-03-16              Paris   \n",
       "2    Individual        Emil Adolf von Behring  1854-03-15  Hansdorf (Lawice)   \n",
       "3    Individual             Jean Henry Dunant  1828-05-08             Geneva   \n",
       "4    Individual                Frédéric Passy  1822-05-20              Paris   \n",
       "\n",
       "      birth_country   sex   organization_name organization_city  \\\n",
       "0       Netherlands  Male   Berlin University            Berlin   \n",
       "1            France  Male                 NaN               NaN   \n",
       "2  Prussia (Poland)  Male  Marburg University           Marburg   \n",
       "3       Switzerland  Male                 NaN               NaN   \n",
       "4            France  Male                 NaN               NaN   \n",
       "\n",
       "  organization_country  death_date death_city death_country  \n",
       "0              Germany  1911-03-01     Berlin       Germany  \n",
       "1                  NaN  1907-09-07   Châtenay        France  \n",
       "2              Germany  1917-03-31    Marburg       Germany  \n",
       "3                  NaN  1910-10-30     Heiden   Switzerland  \n",
       "4                  NaN  1912-06-12      Paris        France  "
      ]
     },
     "execution_count": 2,
     "metadata": {},
     "output_type": "execute_result"
    }
   ],
   "source": [
    "nobel = pd.read_csv('nobel.csv')\n",
    "nobel.head()"
   ]
  },
  {
   "cell_type": "code",
   "execution_count": 3,
   "id": "dff97dea-828c-4e42-9b95-e06edbebfddb",
   "metadata": {},
   "outputs": [
    {
     "name": "stdout",
     "output_type": "stream",
     "text": [
      "<class 'pandas.core.frame.DataFrame'>\n",
      "RangeIndex: 1000 entries, 0 to 999\n",
      "Data columns (total 18 columns):\n",
      " #   Column                Non-Null Count  Dtype \n",
      "---  ------                --------------  ----- \n",
      " 0   year                  1000 non-null   int64 \n",
      " 1   category              1000 non-null   object\n",
      " 2   prize                 1000 non-null   object\n",
      " 3   motivation            912 non-null    object\n",
      " 4   prize_share           1000 non-null   object\n",
      " 5   laureate_id           1000 non-null   int64 \n",
      " 6   laureate_type         1000 non-null   object\n",
      " 7   full_name             1000 non-null   object\n",
      " 8   birth_date            968 non-null    object\n",
      " 9   birth_city            964 non-null    object\n",
      " 10  birth_country         969 non-null    object\n",
      " 11  sex                   970 non-null    object\n",
      " 12  organization_name     736 non-null    object\n",
      " 13  organization_city     735 non-null    object\n",
      " 14  organization_country  735 non-null    object\n",
      " 15  death_date            596 non-null    object\n",
      " 16  death_city            579 non-null    object\n",
      " 17  death_country         585 non-null    object\n",
      "dtypes: int64(2), object(16)\n",
      "memory usage: 140.8+ KB\n"
     ]
    }
   ],
   "source": [
    "nobel.info()"
   ]
  },
  {
   "cell_type": "code",
   "execution_count": 4,
   "id": "4e0f5f43-e9ce-486c-a7fc-2f8bd84ba0ed",
   "metadata": {},
   "outputs": [
    {
     "data": {
      "text/html": [
       "<div>\n",
       "<style scoped>\n",
       "    .dataframe tbody tr th:only-of-type {\n",
       "        vertical-align: middle;\n",
       "    }\n",
       "\n",
       "    .dataframe tbody tr th {\n",
       "        vertical-align: top;\n",
       "    }\n",
       "\n",
       "    .dataframe thead th {\n",
       "        text-align: right;\n",
       "    }\n",
       "</style>\n",
       "<table border=\"1\" class=\"dataframe\">\n",
       "  <thead>\n",
       "    <tr style=\"text-align: right;\">\n",
       "      <th></th>\n",
       "      <th>year</th>\n",
       "      <th>laureate_id</th>\n",
       "    </tr>\n",
       "  </thead>\n",
       "  <tbody>\n",
       "    <tr>\n",
       "      <th>count</th>\n",
       "      <td>1000.000000</td>\n",
       "      <td>1000.000000</td>\n",
       "    </tr>\n",
       "    <tr>\n",
       "      <th>mean</th>\n",
       "      <td>1973.721000</td>\n",
       "      <td>509.099000</td>\n",
       "    </tr>\n",
       "    <tr>\n",
       "      <th>std</th>\n",
       "      <td>34.523195</td>\n",
       "      <td>298.130617</td>\n",
       "    </tr>\n",
       "    <tr>\n",
       "      <th>min</th>\n",
       "      <td>1901.000000</td>\n",
       "      <td>1.000000</td>\n",
       "    </tr>\n",
       "    <tr>\n",
       "      <th>25%</th>\n",
       "      <td>1949.750000</td>\n",
       "      <td>250.750000</td>\n",
       "    </tr>\n",
       "    <tr>\n",
       "      <th>50%</th>\n",
       "      <td>1979.000000</td>\n",
       "      <td>500.500000</td>\n",
       "    </tr>\n",
       "    <tr>\n",
       "      <th>75%</th>\n",
       "      <td>2003.000000</td>\n",
       "      <td>764.250000</td>\n",
       "    </tr>\n",
       "    <tr>\n",
       "      <th>max</th>\n",
       "      <td>2023.000000</td>\n",
       "      <td>1034.000000</td>\n",
       "    </tr>\n",
       "  </tbody>\n",
       "</table>\n",
       "</div>"
      ],
      "text/plain": [
       "              year  laureate_id\n",
       "count  1000.000000  1000.000000\n",
       "mean   1973.721000   509.099000\n",
       "std      34.523195   298.130617\n",
       "min    1901.000000     1.000000\n",
       "25%    1949.750000   250.750000\n",
       "50%    1979.000000   500.500000\n",
       "75%    2003.000000   764.250000\n",
       "max    2023.000000  1034.000000"
      ]
     },
     "execution_count": 4,
     "metadata": {},
     "output_type": "execute_result"
    }
   ],
   "source": [
    "nobel.describe()"
   ]
  },
  {
   "cell_type": "markdown",
   "id": "a94642de-6a1d-49d8-bc68-beedc96ac846",
   "metadata": {},
   "source": [
    "# Handling & Missing Values"
   ]
  },
  {
   "cell_type": "code",
   "execution_count": 5,
   "id": "8dbdd8e4-601a-444a-b18e-6415b5d5006e",
   "metadata": {},
   "outputs": [],
   "source": [
    "nobel = nobel.dropna(subset=\n",
    "['motivation','birth_date','birth_city','birth_country','sex','organization_name','organization_city','organization_country',\n",
    " 'death_date','death_city','death_country'])"
   ]
  },
  {
   "cell_type": "code",
   "execution_count": 6,
   "id": "9af74fcb-9753-4015-a73b-282adbb1160d",
   "metadata": {},
   "outputs": [
    {
     "data": {
      "text/plain": [
       "year                    0\n",
       "category                0\n",
       "prize                   0\n",
       "motivation              0\n",
       "prize_share             0\n",
       "laureate_id             0\n",
       "laureate_type           0\n",
       "full_name               0\n",
       "birth_date              0\n",
       "birth_city              0\n",
       "birth_country           0\n",
       "sex                     0\n",
       "organization_name       0\n",
       "organization_city       0\n",
       "organization_country    0\n",
       "death_date              0\n",
       "death_city              0\n",
       "death_country           0\n",
       "dtype: int64"
      ]
     },
     "execution_count": 6,
     "metadata": {},
     "output_type": "execute_result"
    }
   ],
   "source": [
    "nobel.isnull().sum()"
   ]
  },
  {
   "cell_type": "code",
   "execution_count": 7,
   "id": "603d7f9f-53b6-4183-b1a4-dccc47f63244",
   "metadata": {},
   "outputs": [
    {
     "data": {
      "text/html": [
       "<div>\n",
       "<style scoped>\n",
       "    .dataframe tbody tr th:only-of-type {\n",
       "        vertical-align: middle;\n",
       "    }\n",
       "\n",
       "    .dataframe tbody tr th {\n",
       "        vertical-align: top;\n",
       "    }\n",
       "\n",
       "    .dataframe thead th {\n",
       "        text-align: right;\n",
       "    }\n",
       "</style>\n",
       "<table border=\"1\" class=\"dataframe\">\n",
       "  <thead>\n",
       "    <tr style=\"text-align: right;\">\n",
       "      <th></th>\n",
       "      <th>year</th>\n",
       "      <th>category</th>\n",
       "      <th>prize</th>\n",
       "      <th>motivation</th>\n",
       "      <th>prize_share</th>\n",
       "      <th>laureate_id</th>\n",
       "      <th>laureate_type</th>\n",
       "      <th>full_name</th>\n",
       "      <th>birth_date</th>\n",
       "      <th>birth_city</th>\n",
       "      <th>birth_country</th>\n",
       "      <th>sex</th>\n",
       "      <th>organization_name</th>\n",
       "      <th>organization_city</th>\n",
       "      <th>organization_country</th>\n",
       "      <th>death_date</th>\n",
       "      <th>death_city</th>\n",
       "      <th>death_country</th>\n",
       "    </tr>\n",
       "  </thead>\n",
       "  <tbody>\n",
       "    <tr>\n",
       "      <th>0</th>\n",
       "      <td>1901</td>\n",
       "      <td>Chemistry</td>\n",
       "      <td>The Nobel Prize in Chemistry 1901</td>\n",
       "      <td>\"in recognition of the extraordinary services ...</td>\n",
       "      <td>1/1</td>\n",
       "      <td>160</td>\n",
       "      <td>Individual</td>\n",
       "      <td>Jacobus Henricus van 't Hoff</td>\n",
       "      <td>1852-08-30</td>\n",
       "      <td>Rotterdam</td>\n",
       "      <td>Netherlands</td>\n",
       "      <td>Male</td>\n",
       "      <td>Berlin University</td>\n",
       "      <td>Berlin</td>\n",
       "      <td>Germany</td>\n",
       "      <td>1911-03-01</td>\n",
       "      <td>Berlin</td>\n",
       "      <td>Germany</td>\n",
       "    </tr>\n",
       "    <tr>\n",
       "      <th>2</th>\n",
       "      <td>1901</td>\n",
       "      <td>Medicine</td>\n",
       "      <td>The Nobel Prize in Physiology or Medicine 1901</td>\n",
       "      <td>\"for his work on serum therapy, especially its...</td>\n",
       "      <td>1/1</td>\n",
       "      <td>293</td>\n",
       "      <td>Individual</td>\n",
       "      <td>Emil Adolf von Behring</td>\n",
       "      <td>1854-03-15</td>\n",
       "      <td>Hansdorf (Lawice)</td>\n",
       "      <td>Prussia (Poland)</td>\n",
       "      <td>Male</td>\n",
       "      <td>Marburg University</td>\n",
       "      <td>Marburg</td>\n",
       "      <td>Germany</td>\n",
       "      <td>1917-03-31</td>\n",
       "      <td>Marburg</td>\n",
       "      <td>Germany</td>\n",
       "    </tr>\n",
       "    <tr>\n",
       "      <th>5</th>\n",
       "      <td>1901</td>\n",
       "      <td>Physics</td>\n",
       "      <td>The Nobel Prize in Physics 1901</td>\n",
       "      <td>\"in recognition of the extraordinary services ...</td>\n",
       "      <td>1/1</td>\n",
       "      <td>1</td>\n",
       "      <td>Individual</td>\n",
       "      <td>Wilhelm Conrad Röntgen</td>\n",
       "      <td>1845-03-27</td>\n",
       "      <td>Lennep (Remscheid)</td>\n",
       "      <td>Prussia (Germany)</td>\n",
       "      <td>Male</td>\n",
       "      <td>Munich University</td>\n",
       "      <td>Munich</td>\n",
       "      <td>Germany</td>\n",
       "      <td>1923-02-10</td>\n",
       "      <td>Munich</td>\n",
       "      <td>Germany</td>\n",
       "    </tr>\n",
       "    <tr>\n",
       "      <th>6</th>\n",
       "      <td>1902</td>\n",
       "      <td>Chemistry</td>\n",
       "      <td>The Nobel Prize in Chemistry 1902</td>\n",
       "      <td>\"in recognition of the extraordinary services ...</td>\n",
       "      <td>1/1</td>\n",
       "      <td>161</td>\n",
       "      <td>Individual</td>\n",
       "      <td>Hermann Emil Fischer</td>\n",
       "      <td>1852-10-09</td>\n",
       "      <td>Euskirchen</td>\n",
       "      <td>Prussia (Germany)</td>\n",
       "      <td>Male</td>\n",
       "      <td>Berlin University</td>\n",
       "      <td>Berlin</td>\n",
       "      <td>Germany</td>\n",
       "      <td>1919-07-15</td>\n",
       "      <td>Berlin</td>\n",
       "      <td>Germany</td>\n",
       "    </tr>\n",
       "    <tr>\n",
       "      <th>8</th>\n",
       "      <td>1902</td>\n",
       "      <td>Medicine</td>\n",
       "      <td>The Nobel Prize in Physiology or Medicine 1902</td>\n",
       "      <td>\"for his work on malaria, by which he has show...</td>\n",
       "      <td>1/1</td>\n",
       "      <td>294</td>\n",
       "      <td>Individual</td>\n",
       "      <td>Ronald Ross</td>\n",
       "      <td>1857-05-13</td>\n",
       "      <td>Almora</td>\n",
       "      <td>India</td>\n",
       "      <td>Male</td>\n",
       "      <td>University College</td>\n",
       "      <td>Liverpool</td>\n",
       "      <td>United Kingdom</td>\n",
       "      <td>1932-09-16</td>\n",
       "      <td>Putney Heath</td>\n",
       "      <td>United Kingdom</td>\n",
       "    </tr>\n",
       "  </tbody>\n",
       "</table>\n",
       "</div>"
      ],
      "text/plain": [
       "   year   category                                           prize  \\\n",
       "0  1901  Chemistry               The Nobel Prize in Chemistry 1901   \n",
       "2  1901   Medicine  The Nobel Prize in Physiology or Medicine 1901   \n",
       "5  1901    Physics                 The Nobel Prize in Physics 1901   \n",
       "6  1902  Chemistry               The Nobel Prize in Chemistry 1902   \n",
       "8  1902   Medicine  The Nobel Prize in Physiology or Medicine 1902   \n",
       "\n",
       "                                          motivation prize_share  laureate_id  \\\n",
       "0  \"in recognition of the extraordinary services ...         1/1          160   \n",
       "2  \"for his work on serum therapy, especially its...         1/1          293   \n",
       "5  \"in recognition of the extraordinary services ...         1/1            1   \n",
       "6  \"in recognition of the extraordinary services ...         1/1          161   \n",
       "8  \"for his work on malaria, by which he has show...         1/1          294   \n",
       "\n",
       "  laureate_type                     full_name  birth_date          birth_city  \\\n",
       "0    Individual  Jacobus Henricus van 't Hoff  1852-08-30           Rotterdam   \n",
       "2    Individual        Emil Adolf von Behring  1854-03-15   Hansdorf (Lawice)   \n",
       "5    Individual        Wilhelm Conrad Röntgen  1845-03-27  Lennep (Remscheid)   \n",
       "6    Individual          Hermann Emil Fischer  1852-10-09          Euskirchen   \n",
       "8    Individual                   Ronald Ross  1857-05-13              Almora   \n",
       "\n",
       "       birth_country   sex   organization_name organization_city  \\\n",
       "0        Netherlands  Male   Berlin University            Berlin   \n",
       "2   Prussia (Poland)  Male  Marburg University           Marburg   \n",
       "5  Prussia (Germany)  Male   Munich University            Munich   \n",
       "6  Prussia (Germany)  Male   Berlin University            Berlin   \n",
       "8              India  Male  University College         Liverpool   \n",
       "\n",
       "  organization_country  death_date    death_city   death_country  \n",
       "0              Germany  1911-03-01        Berlin         Germany  \n",
       "2              Germany  1917-03-31       Marburg         Germany  \n",
       "5              Germany  1923-02-10        Munich         Germany  \n",
       "6              Germany  1919-07-15        Berlin         Germany  \n",
       "8       United Kingdom  1932-09-16  Putney Heath  United Kingdom  "
      ]
     },
     "execution_count": 7,
     "metadata": {},
     "output_type": "execute_result"
    }
   ],
   "source": [
    "nobel.head()"
   ]
  },
  {
   "cell_type": "markdown",
   "id": "1e02097d-25ce-4feb-832f-ac82eb9cfd6b",
   "metadata": {},
   "source": [
    "# The most commonly awarded gender and birth country?"
   ]
  },
  {
   "cell_type": "code",
   "execution_count": 8,
   "id": "83e0fe4a-24c3-45b0-ad23-4c5174bad819",
   "metadata": {},
   "outputs": [
    {
     "name": "stdout",
     "output_type": "stream",
     "text": [
      "Male\n",
      "United States of America\n"
     ]
    }
   ],
   "source": [
    "# the most commonly awarded gender\n",
    "top_gender = nobel['sex'].value_counts().idxmax()\n",
    "\n",
    "# the most commonly awarded birth country\n",
    "top_country = nobel['birth_country'].value_counts().idxmax()\n",
    "\n",
    "print(top_gender)\n",
    "print(top_country)"
   ]
  },
  {
   "cell_type": "code",
   "execution_count": null,
   "id": "3e6db2ec-b0ea-4661-9aa7-256f4f4d30d6",
   "metadata": {},
   "outputs": [],
   "source": []
  },
  {
   "cell_type": "markdown",
   "id": "1c1c616c-001d-4cff-9503-c88327edbb82",
   "metadata": {},
   "source": [
    "# The Heighst ration winners in USA "
   ]
  },
  {
   "cell_type": "code",
   "execution_count": 9,
   "id": "ea7631d4-ccc3-4a52-94af-6b9e79465a1e",
   "metadata": {},
   "outputs": [
    {
     "name": "stdout",
     "output_type": "stream",
     "text": [
      "1990\n"
     ]
    },
    {
     "data": {
      "image/png": "[encoded data removed]",
      "text/plain": [
       "<Figure size 500x500 with 1 Axes>"
      ]
     },
     "metadata": {},
     "output_type": "display_data"
    }
   ],
   "source": [
    "# Create column calculate the Decade\n",
    "nobel['decade'] = (nobel['year'] // 10)*10\n",
    "# winners in USA \n",
    "nobel['usa_winners'] = nobel['birth_country'] == 'United States of America'\n",
    "ration_winner = nobel.groupby('decade',as_index=False)['usa_winners'].mean()\n",
    "max_usa_decade = ration_winner[ration_winner['usa_winners'] == ration_winner['usa_winners'].max()]['decade'].values[0]\n",
    "print(max_usa_decade)\n",
    "\n",
    "# create vis\n",
    "sns.relplot(kind='line',x='decade', y='usa_winners',data= ration_winner)\n",
    "plt.title('Plotting USA born winners')\n",
    "plt.xlabel('Deade')\n",
    "plt.ylabel('USA Winners')\n",
    "plt.show()"
   ]
  },
  {
   "cell_type": "markdown",
   "id": "18b4eaa8-b435-421a-8939-64d1c0691ebe",
   "metadata": {},
   "source": [
    "# Calculating the proportion of female laureates per decade"
   ]
  },
  {
   "cell_type": "code",
   "execution_count": 10,
   "id": "9d35e0dd-b5d3-48b7-b936-c6a986856f87",
   "metadata": {},
   "outputs": [
    {
     "name": "stdout",
     "output_type": "stream",
     "text": [
      "{2000: 'Economics'}\n"
     ]
    },
    {
     "data": {
      "image/png": "[encoded data removed]",
      "text/plain": [
       "<Figure size 624.25x500 with 1 Axes>"
      ]
     },
     "metadata": {},
     "output_type": "display_data"
    }
   ],
   "source": [
    "# Calculating the proportion of female laureates per decade\n",
    "nobel['female_winner'] = nobel['sex'] == 'Female'\n",
    "prop_fema_winner = nobel.groupby(['decade','category'],as_index=False)['female_winner'].mean()\n",
    "female_dec_categ = prop_fema_winner[prop_fema_winner['female_winner'] == prop_fema_winner['female_winner'].max()][['decade','category']]\n",
    "\n",
    "max_female_dic = {female_dec_categ['decade'].values[0]:female_dec_categ['category'].values[0]}\n",
    "print(max_female_dic)\n",
    "# create Visu female winners\n",
    "\n",
    "sns.relplot(x= 'decade', y= 'female_winner', data= prop_fema_winner, hue ='category', kind= 'line')\n",
    "plt.title('female winners with % winners')\n",
    "plt.xlabel('Decade')\n",
    "plt.ylabel('Female Winners')\n",
    "plt.show()"
   ]
  },
  {
   "cell_type": "markdown",
   "id": "9ba0d8da-ad7a-42d1-bc15-71410bd23b66",
   "metadata": {},
   "source": [
    "# The first woman to receive a Nobel Prize, and in what category?"
   ]
  },
  {
   "cell_type": "code",
   "execution_count": 11,
   "id": "48fb78f9-07d0-4617-a05b-01407332a1ab",
   "metadata": {},
   "outputs": [
    {
     "name": "stdout",
     "output_type": "stream",
     "text": [
      "The Frist Woman: Marie Curie, née Sklodowska \t Category: Chemistry\t Country: Russian Empire (Poland)\n"
     ]
    }
   ],
   "source": [
    "# Find the frist woman win the prize and in what category\n",
    "woman_winners = nobel[nobel['female_winner']]\n",
    "if not woman_winners.empty:\n",
    "    frist_woman = woman_winners.sort_values(by='year').iloc[0]\n",
    "    frist_woman_name = frist_woman['full_name']\n",
    "    frist_category = frist_woman['category']\n",
    "    country_name = frist_woman['birth_country']\n",
    "    print(f'The Frist Woman: {frist_woman_name} \\t Category: {frist_category}\\t Country: {country_name}')"
   ]
  },
  {
   "cell_type": "markdown",
   "id": "f11b5b13-2e6d-45a0-b206-6c726f85aad2",
   "metadata": {},
   "source": [
    "# Selecting the laureates that have received 2 or more prizes"
   ]
  },
  {
   "cell_type": "code",
   "execution_count": 12,
   "id": "f246ce9e-907f-47c6-aeb6-50bf9dda8eb1",
   "metadata": {},
   "outputs": [
    {
     "name": "stdout",
     "output_type": "stream",
     "text": [
      "['Frederick Sanger', 'John Bardeen', 'University of California', 'Harvard University', 'University of Cambridge', 'University of Chicago', 'California Institute of Technology (Caltech)', 'Stanford University', 'University of Oxford', 'Rockefeller University', 'Massachusetts Institute of Technology (MIT)', 'Cornell University', 'Columbia University', 'London University', 'Rockefeller Institute for Medical Research', 'University of Heidelberg', 'Berlin University', 'University College', 'Princeton University', 'Uppsala University', 'MRC Laboratory of Molecular Biology', 'Institut Pasteur', 'Goettingen University', 'Munich University', 'Harvard Medical School', 'Sorbonne University', 'Washington University', 'National Institutes of Health', 'University of Wisconsin', 'University of Pennsylvania', 'Kiel University', 'Stockholm University', 'University of Oslo', 'Imperial College', 'Academy of Sciences', 'Copenhagen University', 'University of Zurich', 'Yale University', 'Karolinska Institutet', 'Victoria University', 'University of Illinois', 'Bell Laboratories', 'Wellcome Research Laboratories', 'University of Toronto', 'Institut du Radium', 'National Institute for Medical Research', 'Mayo Clinic', 'Basel Institute for Immunology', 'Eidgenössische Technische Hochschule (Swiss Federal Institute of Technology)', 'Graz University', 'Vienna University', 'Leipzig University', 'P.N. Lebedev Physical Institute', 'Amsterdam University', 'Northwestern University', 'University of Moscow', 'Leiden University', 'Edinburgh University', 'Bell Telephone Laboratories']\n"
     ]
    }
   ],
   "source": [
    "repet_list = []\n",
    "# ----------- Check Individual full name -------\n",
    "count_name = nobel['full_name'].value_counts() \n",
    "repet_name = count_name[count_name >1].index\n",
    "# ------------- Check Organization name -------\n",
    "count_org = nobel['organization_name'].value_counts()\n",
    "repet_org = count_org[count_org >= 2].index\n",
    "# Display the result\n",
    "repet_list.extend(repet_name)\n",
    "repet_list.extend(repet_org)\n",
    "print(repet_list)"
   ]
  },
  {
   "cell_type": "code",
   "execution_count": null,
   "id": "a068f731-6384-4fdc-be8c-ec64bfb08b0f",
   "metadata": {},
   "outputs": [],
   "source": []
  },
  {
   "cell_type": "code",
   "execution_count": 13,
   "id": "c5030b6d-c934-412c-8fc4-4368d158b58f",
   "metadata": {},
   "outputs": [
    {
     "data": {
      "text/html": [
       "<div>\n",
       "<style scoped>\n",
       "    .dataframe tbody tr th:only-of-type {\n",
       "        vertical-align: middle;\n",
       "    }\n",
       "\n",
       "    .dataframe tbody tr th {\n",
       "        vertical-align: top;\n",
       "    }\n",
       "\n",
       "    .dataframe thead th {\n",
       "        text-align: right;\n",
       "    }\n",
       "</style>\n",
       "<table border=\"1\" class=\"dataframe\">\n",
       "  <thead>\n",
       "    <tr style=\"text-align: right;\">\n",
       "      <th></th>\n",
       "      <th>year</th>\n",
       "      <th>category</th>\n",
       "      <th>prize</th>\n",
       "      <th>motivation</th>\n",
       "      <th>prize_share</th>\n",
       "      <th>laureate_id</th>\n",
       "      <th>laureate_type</th>\n",
       "      <th>full_name</th>\n",
       "      <th>birth_date</th>\n",
       "      <th>birth_city</th>\n",
       "      <th>...</th>\n",
       "      <th>sex</th>\n",
       "      <th>organization_name</th>\n",
       "      <th>organization_city</th>\n",
       "      <th>organization_country</th>\n",
       "      <th>death_date</th>\n",
       "      <th>death_city</th>\n",
       "      <th>death_country</th>\n",
       "      <th>decade</th>\n",
       "      <th>usa_winners</th>\n",
       "      <th>female_winner</th>\n",
       "    </tr>\n",
       "  </thead>\n",
       "  <tbody>\n",
       "    <tr>\n",
       "      <th>0</th>\n",
       "      <td>1901</td>\n",
       "      <td>Chemistry</td>\n",
       "      <td>The Nobel Prize in Chemistry 1901</td>\n",
       "      <td>\"in recognition of the extraordinary services ...</td>\n",
       "      <td>1/1</td>\n",
       "      <td>160</td>\n",
       "      <td>Individual</td>\n",
       "      <td>Jacobus Henricus van 't Hoff</td>\n",
       "      <td>1852-08-30</td>\n",
       "      <td>Rotterdam</td>\n",
       "      <td>...</td>\n",
       "      <td>Male</td>\n",
       "      <td>Berlin University</td>\n",
       "      <td>Berlin</td>\n",
       "      <td>Germany</td>\n",
       "      <td>1911-03-01</td>\n",
       "      <td>Berlin</td>\n",
       "      <td>Germany</td>\n",
       "      <td>1900</td>\n",
       "      <td>False</td>\n",
       "      <td>False</td>\n",
       "    </tr>\n",
       "    <tr>\n",
       "      <th>2</th>\n",
       "      <td>1901</td>\n",
       "      <td>Medicine</td>\n",
       "      <td>The Nobel Prize in Physiology or Medicine 1901</td>\n",
       "      <td>\"for his work on serum therapy, especially its...</td>\n",
       "      <td>1/1</td>\n",
       "      <td>293</td>\n",
       "      <td>Individual</td>\n",
       "      <td>Emil Adolf von Behring</td>\n",
       "      <td>1854-03-15</td>\n",
       "      <td>Hansdorf (Lawice)</td>\n",
       "      <td>...</td>\n",
       "      <td>Male</td>\n",
       "      <td>Marburg University</td>\n",
       "      <td>Marburg</td>\n",
       "      <td>Germany</td>\n",
       "      <td>1917-03-31</td>\n",
       "      <td>Marburg</td>\n",
       "      <td>Germany</td>\n",
       "      <td>1900</td>\n",
       "      <td>False</td>\n",
       "      <td>False</td>\n",
       "    </tr>\n",
       "    <tr>\n",
       "      <th>5</th>\n",
       "      <td>1901</td>\n",
       "      <td>Physics</td>\n",
       "      <td>The Nobel Prize in Physics 1901</td>\n",
       "      <td>\"in recognition of the extraordinary services ...</td>\n",
       "      <td>1/1</td>\n",
       "      <td>1</td>\n",
       "      <td>Individual</td>\n",
       "      <td>Wilhelm Conrad Röntgen</td>\n",
       "      <td>1845-03-27</td>\n",
       "      <td>Lennep (Remscheid)</td>\n",
       "      <td>...</td>\n",
       "      <td>Male</td>\n",
       "      <td>Munich University</td>\n",
       "      <td>Munich</td>\n",
       "      <td>Germany</td>\n",
       "      <td>1923-02-10</td>\n",
       "      <td>Munich</td>\n",
       "      <td>Germany</td>\n",
       "      <td>1900</td>\n",
       "      <td>False</td>\n",
       "      <td>False</td>\n",
       "    </tr>\n",
       "    <tr>\n",
       "      <th>6</th>\n",
       "      <td>1902</td>\n",
       "      <td>Chemistry</td>\n",
       "      <td>The Nobel Prize in Chemistry 1902</td>\n",
       "      <td>\"in recognition of the extraordinary services ...</td>\n",
       "      <td>1/1</td>\n",
       "      <td>161</td>\n",
       "      <td>Individual</td>\n",
       "      <td>Hermann Emil Fischer</td>\n",
       "      <td>1852-10-09</td>\n",
       "      <td>Euskirchen</td>\n",
       "      <td>...</td>\n",
       "      <td>Male</td>\n",
       "      <td>Berlin University</td>\n",
       "      <td>Berlin</td>\n",
       "      <td>Germany</td>\n",
       "      <td>1919-07-15</td>\n",
       "      <td>Berlin</td>\n",
       "      <td>Germany</td>\n",
       "      <td>1900</td>\n",
       "      <td>False</td>\n",
       "      <td>False</td>\n",
       "    </tr>\n",
       "    <tr>\n",
       "      <th>8</th>\n",
       "      <td>1902</td>\n",
       "      <td>Medicine</td>\n",
       "      <td>The Nobel Prize in Physiology or Medicine 1902</td>\n",
       "      <td>\"for his work on malaria, by which he has show...</td>\n",
       "      <td>1/1</td>\n",
       "      <td>294</td>\n",
       "      <td>Individual</td>\n",
       "      <td>Ronald Ross</td>\n",
       "      <td>1857-05-13</td>\n",
       "      <td>Almora</td>\n",
       "      <td>...</td>\n",
       "      <td>Male</td>\n",
       "      <td>University College</td>\n",
       "      <td>Liverpool</td>\n",
       "      <td>United Kingdom</td>\n",
       "      <td>1932-09-16</td>\n",
       "      <td>Putney Heath</td>\n",
       "      <td>United Kingdom</td>\n",
       "      <td>1900</td>\n",
       "      <td>False</td>\n",
       "      <td>False</td>\n",
       "    </tr>\n",
       "  </tbody>\n",
       "</table>\n",
       "<p>5 rows × 21 columns</p>\n",
       "</div>"
      ],
      "text/plain": [
       "   year   category                                           prize  \\\n",
       "0  1901  Chemistry               The Nobel Prize in Chemistry 1901   \n",
       "2  1901   Medicine  The Nobel Prize in Physiology or Medicine 1901   \n",
       "5  1901    Physics                 The Nobel Prize in Physics 1901   \n",
       "6  1902  Chemistry               The Nobel Prize in Chemistry 1902   \n",
       "8  1902   Medicine  The Nobel Prize in Physiology or Medicine 1902   \n",
       "\n",
       "                                          motivation prize_share  laureate_id  \\\n",
       "0  \"in recognition of the extraordinary services ...         1/1          160   \n",
       "2  \"for his work on serum therapy, especially its...         1/1          293   \n",
       "5  \"in recognition of the extraordinary services ...         1/1            1   \n",
       "6  \"in recognition of the extraordinary services ...         1/1          161   \n",
       "8  \"for his work on malaria, by which he has show...         1/1          294   \n",
       "\n",
       "  laureate_type                     full_name  birth_date          birth_city  \\\n",
       "0    Individual  Jacobus Henricus van 't Hoff  1852-08-30           Rotterdam   \n",
       "2    Individual        Emil Adolf von Behring  1854-03-15   Hansdorf (Lawice)   \n",
       "5    Individual        Wilhelm Conrad Röntgen  1845-03-27  Lennep (Remscheid)   \n",
       "6    Individual          Hermann Emil Fischer  1852-10-09          Euskirchen   \n",
       "8    Individual                   Ronald Ross  1857-05-13              Almora   \n",
       "\n",
       "   ...   sex   organization_name organization_city organization_country  \\\n",
       "0  ...  Male   Berlin University            Berlin              Germany   \n",
       "2  ...  Male  Marburg University           Marburg              Germany   \n",
       "5  ...  Male   Munich University            Munich              Germany   \n",
       "6  ...  Male   Berlin University            Berlin              Germany   \n",
       "8  ...  Male  University College         Liverpool       United Kingdom   \n",
       "\n",
       "   death_date    death_city   death_country decade  usa_winners  female_winner  \n",
       "0  1911-03-01        Berlin         Germany   1900        False          False  \n",
       "2  1917-03-31       Marburg         Germany   1900        False          False  \n",
       "5  1923-02-10        Munich         Germany   1900        False          False  \n",
       "6  1919-07-15        Berlin         Germany   1900        False          False  \n",
       "8  1932-09-16  Putney Heath  United Kingdom   1900        False          False  \n",
       "\n",
       "[5 rows x 21 columns]"
      ]
     },
     "execution_count": 13,
     "metadata": {},
     "output_type": "execute_result"
    }
   ],
   "source": [
    "nobel.head()"
   ]
  },
  {
   "cell_type": "code",
   "execution_count": 14,
   "id": "8712fe04-cba6-4bea-ae94-d1479f98d87e",
   "metadata": {},
   "outputs": [
    {
     "data": {
      "text/plain": [
       "array(['Chemistry', 'Medicine', 'Physics', 'Economics'], dtype=object)"
      ]
     },
     "execution_count": 14,
     "metadata": {},
     "output_type": "execute_result"
    }
   ],
   "source": [
    "nobel['category'].unique()"
   ]
  },
  {
   "cell_type": "markdown",
   "id": "b57e9307-5662-47da-89f5-fcce155fc01d",
   "metadata": {},
   "source": [
    "# Number of awards in each Category"
   ]
  },
  {
   "cell_type": "code",
   "execution_count": 15,
   "id": "19569c1c-3e64-4de7-80c4-67174a5f1e45",
   "metadata": {},
   "outputs": [
    {
     "name": "stdout",
     "output_type": "stream",
     "text": [
      "category\n",
      "Medicine     142\n",
      "Physics      116\n",
      "Chemistry    110\n",
      "Economics     38\n",
      "Name: count, dtype: int64\n"
     ]
    }
   ],
   "source": [
    "count_category = nobel['category'].value_counts()\n",
    "print(count_category)"
   ]
  },
  {
   "cell_type": "markdown",
   "id": "a65dca78-9338-427f-a561-52dc244d1597",
   "metadata": {},
   "source": [
    "# Collect data by sex and category and calculate the number of winners in each group"
   ]
  },
  {
   "cell_type": "code",
   "execution_count": 26,
   "id": "9046ec8a-a46e-402f-acd8-da35bd50baa9",
   "metadata": {},
   "outputs": [
    {
     "name": "stdout",
     "output_type": "stream",
     "text": [
      "sex        Female  Male\n",
      "category               \n",
      "Chemistry       3   107\n",
      "Economics       1    37\n",
      "Medicine        5   137\n",
      "Physics         1   115\n"
     ]
    }
   ],
   "source": [
    "# Collect data by sex and category and calculate the number of winners in each group\n",
    "\n",
    "sex_category_counts = nobel.groupby(['sex', 'category']).size().reset_index(name='win_count')\n",
    "pivot_sex_cate = sex_category_counts.pivot(index = 'category',columns = 'sex',values = 'win_count')\n",
    "\n",
    "# Display Result\n",
    "\n",
    "print(pivot_sex_cate)"
   ]
  },
  {
   "cell_type": "code",
   "execution_count": 29,
   "id": "f2825545-6237-4df0-b252-1b0799c2cc80",
   "metadata": {},
   "outputs": [
    {
     "data": {
      "image/png": "[encoded data removed]",
      "text/plain": [
       "<Figure size 550.25x300 with 1 Axes>"
      ]
     },
     "metadata": {},
     "output_type": "display_data"
    }
   ],
   "source": [
    "# Create Vis Count win by category and sex\n",
    "g = sns.catplot(x = 'category',y = 'win_count',hue='sex', data = sex_category_counts,\n",
    "            kind = 'bar',height=3,aspect=1.5,palette=['#4c72b0', '#dd8452'])\n",
    "plt.title('Win Count by Category and Sex', fontsize=12)\n",
    "g.set_axis_labels(\"Category\", \"Win Count\",size=10)\n",
    "plt.show()"
   ]
  },
  {
   "cell_type": "markdown",
   "id": "8cad7259-f5f7-4c97-82fd-3b6ff055a4e4",
   "metadata": {},
   "source": [
    "# collect data by sex and Decade to know the winner's sex per decade"
   ]
  },
  {
   "cell_type": "code",
   "execution_count": 18,
   "id": "251f4005-e0bd-4b49-b0a7-a75067d1ae0d",
   "metadata": {},
   "outputs": [
    {
     "name": "stdout",
     "output_type": "stream",
     "text": [
      "sex     Female  Male\n",
      "decade              \n",
      "1900         0    28\n",
      "1910         1    23\n",
      "1920         0    32\n",
      "1930         1    37\n",
      "1940         1    28\n",
      "1950         0    50\n",
      "1960         2    53\n",
      "1970         1    56\n",
      "1980         3    40\n",
      "1990         0    30\n",
      "2000         1    14\n",
      "2010         0     5\n"
     ]
    }
   ],
   "source": [
    "# Group data by sex and decade, counting the occurrences\n",
    "decade_sex = nobel.groupby(['sex','decade']).size().reset_index(name = 'decade_sex')\n",
    "\n",
    "# Pivot the DataFrame so that 'decade' becomes the index, 'sex' the columns, and 'decade_sex' the values\n",
    "df_dec_sex = decade_sex.pivot(index='decade', columns='sex', values='decade_sex')\n",
    "\n",
    "# Fill all NaN Value and convert to int\n",
    "df_dec_sex = df_dec_sex.fillna(0).astype(int)\n",
    "# Display Data\n",
    "print(df_dec_sex)"
   ]
  },
  {
   "cell_type": "code",
   "execution_count": 30,
   "id": "06f3136c-864f-4c4c-a583-bb7ebf6b8af5",
   "metadata": {},
   "outputs": [
    {
     "data": {
      "image/png": "[encoded data removed]",
      "text/plain": [
       "<Figure size 700.25x400 with 1 Axes>"
      ]
     },
     "metadata": {},
     "output_type": "display_data"
    }
   ],
   "source": [
    "g = sns.relplot(x='decade', y= 'decade_sex', data= decade_sex, hue = 'sex', kind='line',\n",
    "                height=4,aspect=1.5,palette=['#4c72b0', '#dd8452'])\n",
    "plt.title(' count of sex per decade',fontsize=20)\n",
    "g.set_axis_labels('Decade', 'Count of Sex',fontsize=18)\n",
    "plt.show()"
   ]
  },
  {
   "cell_type": "markdown",
   "id": "e2864ef0-bad0-4307-8842-bcb7ce460b25",
   "metadata": {},
   "source": [
    "# Who is first man to win the Nobel"
   ]
  },
  {
   "cell_type": "code",
   "execution_count": 20,
   "id": "a14b3d8f-16d8-4821-857f-b89ea4f7dc4e",
   "metadata": {},
   "outputs": [
    {
     "name": "stdout",
     "output_type": "stream",
     "text": [
      "The Frist Man: Jacobus Henricus van 't Hoff \t Category: Chemistry\t Country: Netherlands\n"
     ]
    }
   ],
   "source": [
    "nobel['male_winner'] = nobel['sex'] == 'Male'\n",
    "man_winners = nobel[nobel['male_winner']]\n",
    "if not man_winners.empty:\n",
    "    frist_man = man_winners.sort_values(by='year').iloc[0]\n",
    "    frist_man_name = frist_man['full_name']\n",
    "    frist_category = frist_man['category']\n",
    "    country_name = frist_man['birth_country']\n",
    "    print(f'The Frist Man: {frist_man_name} \\t Category: {frist_category}\\t Country: {country_name}')"
   ]
  },
  {
   "cell_type": "code",
   "execution_count": null,
   "id": "42bfad36-0308-44ca-b280-47a85a5c6774",
   "metadata": {},
   "outputs": [],
   "source": []
  },
  {
   "cell_type": "code",
   "execution_count": 21,
   "id": "c710ade8-4f2a-4180-bef3-af62f1fffbce",
   "metadata": {},
   "outputs": [
    {
     "data": {
      "text/html": [
       "<div>\n",
       "<style scoped>\n",
       "    .dataframe tbody tr th:only-of-type {\n",
       "        vertical-align: middle;\n",
       "    }\n",
       "\n",
       "    .dataframe tbody tr th {\n",
       "        vertical-align: top;\n",
       "    }\n",
       "\n",
       "    .dataframe thead th {\n",
       "        text-align: right;\n",
       "    }\n",
       "</style>\n",
       "<table border=\"1\" class=\"dataframe\">\n",
       "  <thead>\n",
       "    <tr style=\"text-align: right;\">\n",
       "      <th></th>\n",
       "      <th>year</th>\n",
       "      <th>category</th>\n",
       "      <th>prize</th>\n",
       "      <th>motivation</th>\n",
       "      <th>prize_share</th>\n",
       "      <th>laureate_id</th>\n",
       "      <th>laureate_type</th>\n",
       "      <th>full_name</th>\n",
       "      <th>birth_date</th>\n",
       "      <th>birth_city</th>\n",
       "      <th>...</th>\n",
       "      <th>organization_name</th>\n",
       "      <th>organization_city</th>\n",
       "      <th>organization_country</th>\n",
       "      <th>death_date</th>\n",
       "      <th>death_city</th>\n",
       "      <th>death_country</th>\n",
       "      <th>decade</th>\n",
       "      <th>usa_winners</th>\n",
       "      <th>female_winner</th>\n",
       "      <th>male_winner</th>\n",
       "    </tr>\n",
       "  </thead>\n",
       "  <tbody>\n",
       "    <tr>\n",
       "      <th>0</th>\n",
       "      <td>1901</td>\n",
       "      <td>Chemistry</td>\n",
       "      <td>The Nobel Prize in Chemistry 1901</td>\n",
       "      <td>\"in recognition of the extraordinary services ...</td>\n",
       "      <td>1/1</td>\n",
       "      <td>160</td>\n",
       "      <td>Individual</td>\n",
       "      <td>Jacobus Henricus van 't Hoff</td>\n",
       "      <td>1852-08-30</td>\n",
       "      <td>Rotterdam</td>\n",
       "      <td>...</td>\n",
       "      <td>Berlin University</td>\n",
       "      <td>Berlin</td>\n",
       "      <td>Germany</td>\n",
       "      <td>1911-03-01</td>\n",
       "      <td>Berlin</td>\n",
       "      <td>Germany</td>\n",
       "      <td>1900</td>\n",
       "      <td>False</td>\n",
       "      <td>False</td>\n",
       "      <td>True</td>\n",
       "    </tr>\n",
       "    <tr>\n",
       "      <th>2</th>\n",
       "      <td>1901</td>\n",
       "      <td>Medicine</td>\n",
       "      <td>The Nobel Prize in Physiology or Medicine 1901</td>\n",
       "      <td>\"for his work on serum therapy, especially its...</td>\n",
       "      <td>1/1</td>\n",
       "      <td>293</td>\n",
       "      <td>Individual</td>\n",
       "      <td>Emil Adolf von Behring</td>\n",
       "      <td>1854-03-15</td>\n",
       "      <td>Hansdorf (Lawice)</td>\n",
       "      <td>...</td>\n",
       "      <td>Marburg University</td>\n",
       "      <td>Marburg</td>\n",
       "      <td>Germany</td>\n",
       "      <td>1917-03-31</td>\n",
       "      <td>Marburg</td>\n",
       "      <td>Germany</td>\n",
       "      <td>1900</td>\n",
       "      <td>False</td>\n",
       "      <td>False</td>\n",
       "      <td>True</td>\n",
       "    </tr>\n",
       "    <tr>\n",
       "      <th>5</th>\n",
       "      <td>1901</td>\n",
       "      <td>Physics</td>\n",
       "      <td>The Nobel Prize in Physics 1901</td>\n",
       "      <td>\"in recognition of the extraordinary services ...</td>\n",
       "      <td>1/1</td>\n",
       "      <td>1</td>\n",
       "      <td>Individual</td>\n",
       "      <td>Wilhelm Conrad Röntgen</td>\n",
       "      <td>1845-03-27</td>\n",
       "      <td>Lennep (Remscheid)</td>\n",
       "      <td>...</td>\n",
       "      <td>Munich University</td>\n",
       "      <td>Munich</td>\n",
       "      <td>Germany</td>\n",
       "      <td>1923-02-10</td>\n",
       "      <td>Munich</td>\n",
       "      <td>Germany</td>\n",
       "      <td>1900</td>\n",
       "      <td>False</td>\n",
       "      <td>False</td>\n",
       "      <td>True</td>\n",
       "    </tr>\n",
       "    <tr>\n",
       "      <th>6</th>\n",
       "      <td>1902</td>\n",
       "      <td>Chemistry</td>\n",
       "      <td>The Nobel Prize in Chemistry 1902</td>\n",
       "      <td>\"in recognition of the extraordinary services ...</td>\n",
       "      <td>1/1</td>\n",
       "      <td>161</td>\n",
       "      <td>Individual</td>\n",
       "      <td>Hermann Emil Fischer</td>\n",
       "      <td>1852-10-09</td>\n",
       "      <td>Euskirchen</td>\n",
       "      <td>...</td>\n",
       "      <td>Berlin University</td>\n",
       "      <td>Berlin</td>\n",
       "      <td>Germany</td>\n",
       "      <td>1919-07-15</td>\n",
       "      <td>Berlin</td>\n",
       "      <td>Germany</td>\n",
       "      <td>1900</td>\n",
       "      <td>False</td>\n",
       "      <td>False</td>\n",
       "      <td>True</td>\n",
       "    </tr>\n",
       "    <tr>\n",
       "      <th>8</th>\n",
       "      <td>1902</td>\n",
       "      <td>Medicine</td>\n",
       "      <td>The Nobel Prize in Physiology or Medicine 1902</td>\n",
       "      <td>\"for his work on malaria, by which he has show...</td>\n",
       "      <td>1/1</td>\n",
       "      <td>294</td>\n",
       "      <td>Individual</td>\n",
       "      <td>Ronald Ross</td>\n",
       "      <td>1857-05-13</td>\n",
       "      <td>Almora</td>\n",
       "      <td>...</td>\n",
       "      <td>University College</td>\n",
       "      <td>Liverpool</td>\n",
       "      <td>United Kingdom</td>\n",
       "      <td>1932-09-16</td>\n",
       "      <td>Putney Heath</td>\n",
       "      <td>United Kingdom</td>\n",
       "      <td>1900</td>\n",
       "      <td>False</td>\n",
       "      <td>False</td>\n",
       "      <td>True</td>\n",
       "    </tr>\n",
       "  </tbody>\n",
       "</table>\n",
       "<p>5 rows × 22 columns</p>\n",
       "</div>"
      ],
      "text/plain": [
       "   year   category                                           prize  \\\n",
       "0  1901  Chemistry               The Nobel Prize in Chemistry 1901   \n",
       "2  1901   Medicine  The Nobel Prize in Physiology or Medicine 1901   \n",
       "5  1901    Physics                 The Nobel Prize in Physics 1901   \n",
       "6  1902  Chemistry               The Nobel Prize in Chemistry 1902   \n",
       "8  1902   Medicine  The Nobel Prize in Physiology or Medicine 1902   \n",
       "\n",
       "                                          motivation prize_share  laureate_id  \\\n",
       "0  \"in recognition of the extraordinary services ...         1/1          160   \n",
       "2  \"for his work on serum therapy, especially its...         1/1          293   \n",
       "5  \"in recognition of the extraordinary services ...         1/1            1   \n",
       "6  \"in recognition of the extraordinary services ...         1/1          161   \n",
       "8  \"for his work on malaria, by which he has show...         1/1          294   \n",
       "\n",
       "  laureate_type                     full_name  birth_date          birth_city  \\\n",
       "0    Individual  Jacobus Henricus van 't Hoff  1852-08-30           Rotterdam   \n",
       "2    Individual        Emil Adolf von Behring  1854-03-15   Hansdorf (Lawice)   \n",
       "5    Individual        Wilhelm Conrad Röntgen  1845-03-27  Lennep (Remscheid)   \n",
       "6    Individual          Hermann Emil Fischer  1852-10-09          Euskirchen   \n",
       "8    Individual                   Ronald Ross  1857-05-13              Almora   \n",
       "\n",
       "   ...   organization_name organization_city organization_country  death_date  \\\n",
       "0  ...   Berlin University            Berlin              Germany  1911-03-01   \n",
       "2  ...  Marburg University           Marburg              Germany  1917-03-31   \n",
       "5  ...   Munich University            Munich              Germany  1923-02-10   \n",
       "6  ...   Berlin University            Berlin              Germany  1919-07-15   \n",
       "8  ...  University College         Liverpool       United Kingdom  1932-09-16   \n",
       "\n",
       "     death_city   death_country decade usa_winners  female_winner  male_winner  \n",
       "0        Berlin         Germany   1900       False          False         True  \n",
       "2       Marburg         Germany   1900       False          False         True  \n",
       "5        Munich         Germany   1900       False          False         True  \n",
       "6        Berlin         Germany   1900       False          False         True  \n",
       "8  Putney Heath  United Kingdom   1900       False          False         True  \n",
       "\n",
       "[5 rows x 22 columns]"
      ]
     },
     "execution_count": 21,
     "metadata": {},
     "output_type": "execute_result"
    }
   ],
   "source": [
    "nobel.head()"
   ]
  },
  {
   "cell_type": "code",
   "execution_count": 22,
   "id": "5eabf602-4ec6-4839-acfe-185947159a81",
   "metadata": {},
   "outputs": [
    {
     "data": {
      "text/plain": [
       "array(['1/1', '1/2', '1/4', '1/3'], dtype=object)"
      ]
     },
     "execution_count": 22,
     "metadata": {},
     "output_type": "execute_result"
    }
   ],
   "source": [
    "nobel['prize_share'].unique()"
   ]
  },
  {
   "cell_type": "markdown",
   "id": "3127d27e-d8a0-4dab-bd92-f14953eed09d",
   "metadata": {},
   "source": [
    "## How many times has the the award been shared and how many entries"
   ]
  },
  {
   "cell_type": "code",
   "execution_count": 23,
   "id": "62e5acbc-16fc-418a-8ed3-c47dbf48743b",
   "metadata": {},
   "outputs": [
    {
     "name": "stdout",
     "output_type": "stream",
     "text": [
      "prize_share\n",
      "1/2    148\n",
      "1/1    145\n",
      "1/3     90\n",
      "1/4     23\n",
      "Name: count, dtype: int64\n"
     ]
    }
   ],
   "source": [
    "# count prize share \n",
    "count_prize_share = nobel['prize_share'].value_counts()\n",
    "print(count_prize_share)"
   ]
  },
  {
   "cell_type": "markdown",
   "id": "7a1c42a3-3d51-4944-b33f-7fde4043c872",
   "metadata": {},
   "source": [
    "# Sharing the award across decades"
   ]
  },
  {
   "cell_type": "code",
   "execution_count": 24,
   "id": "647c2fdf-bb4f-4e1e-923f-048daf68edb1",
   "metadata": {},
   "outputs": [
    {
     "name": "stdout",
     "output_type": "stream",
     "text": [
      "        1/1  1/2  1/3  1/4  total  Female  Male  Chemistry  Economics  \\\n",
      "decade                                                                  \n",
      "1900     20    7    0    1     28       0    28          9          0   \n",
      "1910     20    4    0    0     24       1    23          8          0   \n",
      "1920     20   12    0    0     32       0    32         10          0   \n",
      "1930     17   18    3    0     38       1    37         13          0   \n",
      "1940     14    8    3    4     29       1    28          9          0   \n",
      "1950     11   23   14    2     50       0    50         14          0   \n",
      "1960     12   17   20    6     55       2    53         14          2   \n",
      "1970     13   24   18    2     57       1    56         14         12   \n",
      "1980     13   12   13    5     43       3    40          7          9   \n",
      "1990      4   15   11    0     30       0    30          6          9   \n",
      "2000      0    6    6    3     15       1    14          5          4   \n",
      "2010      1    2    2    0      5       0     5          1          2   \n",
      "\n",
      "        Medicine  Physics  \n",
      "decade                     \n",
      "1900          11        8  \n",
      "1910           6       10  \n",
      "1920          10       12  \n",
      "1930          14       11  \n",
      "1940          13        7  \n",
      "1950          20       16  \n",
      "1960          24       15  \n",
      "1970          20       11  \n",
      "1980          14       13  \n",
      "1990           7        8  \n",
      "2000           2        4  \n",
      "2010           1        1  \n"
     ]
    }
   ],
   "source": [
    "# grouped by decade and prize_share called decade_shera\n",
    "decade_shera = nobel.groupby(['decade', 'prize_share']).size().reset_index(name='prize_decade_share')\n",
    "\n",
    "# create pivot table \n",
    "prize_decade = decade_shera.pivot(index='decade', columns='prize_share', values='prize_decade_share')\n",
    "\n",
    "# Fill NaN Values (0) and convert to int\n",
    "prize_decade = prize_decade.fillna(0).astype(int)\n",
    "\n",
    "# Total award per decade\n",
    "prize_decade['total'] = prize_decade.sum(axis=1)\n",
    "\n",
    "# grouped decade  and sex  new column called count\n",
    "nobel_sex = nobel.groupby(['decade', 'sex']).size().reset_index(name='count')\n",
    "\n",
    "# create piovt table nobel_sex and fill NaN values (0) and convert to int\n",
    "nobel_sex_pivot = nobel_sex.pivot(index='decade', columns='sex', values='count').fillna(0).astype(int)\n",
    "\n",
    "# Merge two pivot tables nobel_sex and prize_decade\n",
    "prize_decade = prize_decade.merge(nobel_sex_pivot, on='decade', how='left')\n",
    "\n",
    "cate_decade = nobel.groupby(['decade','category']).size().reset_index(name = 'Count')\n",
    "cate_decade_piovt = cate_decade.pivot(index='decade',columns='category', values='Count').fillna(0).astype(int)\n",
    "prize_decade = prize_decade.merge(cate_decade_piovt, on='decade',how='left')\n",
    "# Display Result\n",
    "print(prize_decade)\n"
   ]
  },
  {
   "cell_type": "markdown",
   "id": "c1655eec-8cc2-426e-8b94-c876583e9cf6",
   "metadata": {},
   "source": [
    "# Plotting award across decade"
   ]
  },
  {
   "cell_type": "code",
   "execution_count": 25,
   "id": "4dba663d-5801-4486-9a65-9daf91cb09c3",
   "metadata": {},
   "outputs": [
    {
     "data": {
      "image/png": "[encoded data removed]",
      "text/plain": [
       "<Figure size 990.986x600 with 1 Axes>"
      ]
     },
     "metadata": {},
     "output_type": "display_data"
    }
   ],
   "source": [
    "g=sns.catplot(x= 'decade',y= 'prize_decade_share',data= decade_shera, hue='prize_share',\n",
    "            kind='bar',height=6,aspect=1.5)\n",
    "plt.title(' Sharing the award across decades',fontsize=20)\n",
    "g.set_axis_labels('Decade', 'Count award share in decade',fontsize=18)\n",
    "plt.show()"
   ]
  },
  {
   "cell_type": "code",
   "execution_count": null,
   "id": "470e2a02-41e1-48f0-a538-ff7170089434",
   "metadata": {},
   "outputs": [],
   "source": []
  },
  {
   "cell_type": "code",
   "execution_count": null,
   "id": "cb73cf75-6649-4ece-93f7-f8d62fbfefa8",
   "metadata": {},
   "outputs": [],
   "source": []
  },
  {
   "cell_type": "code",
   "execution_count": null,
   "id": "1485e866-235f-49c9-be46-bf242e9d9fd6",
   "metadata": {},
   "outputs": [],
   "source": []
  },
  {
   "cell_type": "code",
   "execution_count": null,
   "id": "546ae96f-18a9-41cb-b946-3578b0e17917",
   "metadata": {},
   "outputs": [],
   "source": []
  },
  {
   "cell_type": "code",
   "execution_count": null,
   "id": "32153cff-74c1-4a51-b5bd-b15ce2254973",
   "metadata": {},
   "outputs": [],
   "source": []
  },
  {
   "cell_type": "code",
   "execution_count": null,
   "id": "2a2244cf-7b10-41ac-834f-2a1ec186c9c9",
   "metadata": {},
   "outputs": [],
   "source": []
  }
 ],
 "metadata": {
  "kernelspec": {
   "display_name": "Python 3 (ipykernel)",
   "language": "python",
   "name": "python3"
  },
  "language_info": {
   "codemirror_mode": {
    "name": "ipython",
    "version": 3
   },
   "file_extension": ".py",
   "mimetype": "text/x-python",
   "name": "python",
   "nbconvert_exporter": "python",
   "pygments_lexer": "ipython3",
   "version": "3.12.7"
  }
 },
 "nbformat": 4,
 "nbformat_minor": 5
}
